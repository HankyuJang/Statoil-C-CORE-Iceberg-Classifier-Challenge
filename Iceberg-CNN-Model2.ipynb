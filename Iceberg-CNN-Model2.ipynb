{
 "cells": [
  {
   "cell_type": "markdown",
   "metadata": {},
   "source": [
    "#Modeled after https://blog.keras.io/building-powerful-image-classification-models-using-very-little-data.html\n",
    "#https://gist.github.com/fchollet/0830affa1f7f19fd47b06d4cf89ed44d"
   ]
  },
  {
   "cell_type": "markdown",
   "metadata": {},
   "source": [
    "System Requirements\n",
    "Processor: AMG Phenom(tm) II X6 1055T Processor 2.81 GHz 6-Core\n",
    "Installed memory (RAM): 16.0GB\n",
    "System type: 64-bit Operating System, x64 based processor\n",
    "GPU: NVIDIA GeForce GTX 1050 Ti\n",
    "Operating System: Windows 10 Pro"
   ]
  },
  {
   "cell_type": "code",
   "execution_count": 1,
   "metadata": {},
   "outputs": [
    {
     "name": "stderr",
     "output_type": "stream",
     "text": [
      "Using TensorFlow backend.\n"
     ]
    }
   ],
   "source": [
    "from keras import backend as K\n",
    "from keras.models import Model\n",
    "from keras.layers.convolutional import Conv1D\n",
    "from keras.layers import Input, Convolution2D, MaxPooling2D, Dense, Dropout, Flatten\n",
    "from keras.preprocessing.image import ImageDataGenerator, array_to_img, img_to_array, load_img\n",
    "from keras.utils import np_utils\n",
    "import numpy as np\n",
    "import json\n",
    "import pandas as pd\n",
    "import matplotlib.pyplot as plt\n",
    "%matplotlib inline"
   ]
  },
  {
   "cell_type": "code",
   "execution_count": 2,
   "metadata": {},
   "outputs": [],
   "source": [
    "#load training data\n",
    "train = json.load(open('train.json'))"
   ]
  },
  {
   "cell_type": "code",
   "execution_count": 3,
   "metadata": {},
   "outputs": [],
   "source": [
    "#load test data\n",
    "test = json.load(open('test.json'))"
   ]
  },
  {
   "cell_type": "markdown",
   "metadata": {},
   "source": [
    "# Pre-Processs"
   ]
  },
  {
   "cell_type": "markdown",
   "metadata": {},
   "source": [
    "Here we start building the input layer"
   ]
  },
  {
   "cell_type": "code",
   "execution_count": 4,
   "metadata": {},
   "outputs": [],
   "source": [
    "def normalize(X1):\n",
    "    '''normalizes to 0 to 1 scale'''\n",
    "    norm = ((X1-X1.min())/(X1.max()-X1.min()))\n",
    "    return norm\n",
    "\n",
    "def preprocess(data):\n",
    "    '''\n",
    "    preprocesses the data and returns two list of processed data, \n",
    "    one normalized on 0 to 1 scale, dual channel picture, 75x75x2\n",
    "    one normalized to power ratio, and combined, single channel picture, 75x75x1\n",
    "    '''\n",
    "    #make empty list for dataset normalized from 0 to 1\n",
    "    X_data_scale = list()\n",
    "\n",
    "    #make empty list for dataset normalized by power ratio\n",
    "    X_data_power = list()\n",
    "\n",
    "    #itterate over each element of the data\n",
    "    for i in range(len(data)):\n",
    "        #get elements of entry\n",
    "        id = (data[i]['id'])\n",
    "        B1 = np.reshape(data[i]['band_1'], (75,75))\n",
    "        B2 = np.reshape(data[i]['band_2'], (75,75))\n",
    "        \n",
    "        #normalize to 0 to 1 range\n",
    "        B1_norm = normalize(B1)\n",
    "        B11_norm = normalize(B1)\n",
    "        B2_norm = normalize(B2)\n",
    "        norm_merge = np.dstack((B1_norm, B11_norm, B2_norm))\n",
    "        \n",
    "        #transform to power\n",
    "        B1_power = np.power(10, np.divide(B1, 20))\n",
    "        B2_power = np.power(10, np.divide(B2, 20))\n",
    "        #power_merge = normalize(np.multiply(10,np.log10(np.add(np.power(10,np.divide(B1_power,10)),np.power(10,np.divide(B2_power,10))))))\n",
    "        power_merge = np.dstack((B1_power,B2_power))\n",
    "\n",
    "        #df.append({'id':id, 'image':norm_merge})\n",
    "        #dp.append({'id':id, 'image':power_merge})\n",
    "        X_data_scale.append(norm_merge)\n",
    "        X_data_power.append(power_merge)\n",
    "        \n",
    "    return np.array(X_data_scale), np.array(X_data_power)\n",
    "\n",
    "def get_classification(data):\n",
    "    '''retrieves classification for each image in testing dataset'''\n",
    "    y_data = list()\n",
    "    for i in range(len(data)):\n",
    "        #id = (data[i]['id'])\n",
    "        classification = (data[i]['is_iceberg'])\n",
    "        #target.append({'id':id, 'is_iceberg':classification})\n",
    "        y_data.append([classification])\n",
    "    return(np.array(y_data))\n",
    "\n",
    "def get_id(data):\n",
    "    '''retrieves classification for each image in testing dataset'''\n",
    "    id = list()\n",
    "    for i in range(len(data)):\n",
    "        sample = (data[i]['id'])\n",
    "        id.append([sample])\n",
    "    return(np.array(id))\n",
    "\n",
    "def get_angle(data):\n",
    "    '''retrieves classification for each image in testing dataset'''\n",
    "    angle = list()\n",
    "    for i in range(len(data)):\n",
    "        sample = (data[i]['inc_angle'])\n",
    "        angle.append(sample)\n",
    "    return(angle)"
   ]
  },
  {
   "cell_type": "code",
   "execution_count": 5,
   "metadata": {},
   "outputs": [],
   "source": [
    "#preprocess training dataset\n",
    "X_train_scale, X_train_power = preprocess(train)\n",
    "y_train = get_classification(train)\n",
    "train_id = get_id(train)"
   ]
  },
  {
   "cell_type": "code",
   "execution_count": 6,
   "metadata": {},
   "outputs": [],
   "source": [
    "#preprocess testing dataset\n",
    "X_test_scale, X_test_power = preprocess(test)\n",
    "test_id = get_id(test)"
   ]
  },
  {
   "cell_type": "markdown",
   "metadata": {},
   "source": [
    "# Split training & testing data"
   ]
  },
  {
   "cell_type": "code",
   "execution_count": 8,
   "metadata": {},
   "outputs": [],
   "source": [
    "#split training & testing set\n",
    "from sklearn.model_selection import train_test_split\n",
    "X_train_d_scale, X_test_d_scale, y_train_d_scale, y_test_d_scale = train_test_split(X_train_scale, y_train, test_size=0.2, random_state=0)"
   ]
  },
  {
   "cell_type": "code",
   "execution_count": 10,
   "metadata": {},
   "outputs": [],
   "source": [
    "#one hot encoding labels\n",
    "#Y_train = np_utils.to_categorical(y_train_d_scale, 2)\n",
    "#Y_test = np_utils.to_categorical(y_test_d_scale, 2)"
   ]
  },
  {
   "cell_type": "markdown",
   "metadata": {},
   "source": [
    "# Model Building"
   ]
  },
  {
   "cell_type": "markdown",
   "metadata": {},
   "source": [
    "### Train model"
   ]
  },
  {
   "cell_type": "code",
   "execution_count": 11,
   "metadata": {},
   "outputs": [],
   "source": [
    "#hyperparameters\n",
    "batch_size = 16 #number of training examples to consider at once\n",
    "num_epochs = 100 #itterate n times over training set\n",
    "kernal_size = 3 #3x3 kernal\n",
    "pool_size = 2 #2x2 pooling\n",
    "conv_depth_1 = 32 # first layer 32 kernals\n",
    "conv_depth_2 = 32 # first layer 32 kernals\n",
    "conv_depth_3 = 64 # second layer 64 kernals\n",
    "dense_1 = 64\n",
    "dense_2 = 1\n",
    "drop_out = 0.5 #drop out probability\n",
    "hidden_size = 512 #number of neurons in fully-connected layer"
   ]
  },
  {
   "cell_type": "code",
   "execution_count": 16,
   "metadata": {},
   "outputs": [],
   "source": [
    "from keras.models import Sequential\n",
    "from keras.layers import Conv2D, MaxPooling2D\n",
    "from keras.layers import Activation, Dropout, Flatten, Dense\n",
    "\n",
    "model = Sequential()\n",
    "model.add(Conv2D(conv_depth_1, (kernal_size, kernal_size), input_shape=(75,75,3)))\n",
    "model.add(Activation('relu'))\n",
    "model.add(MaxPooling2D(pool_size=(pool_size, pool_size)))\n",
    "\n",
    "model.add(Conv2D(conv_depth_2, (kernal_size, kernal_size)))\n",
    "model.add(Activation('relu'))\n",
    "model.add(MaxPooling2D(pool_size=(pool_size, pool_size)))\n",
    "\n",
    "model.add(Conv2D(conv_depth_3, (kernal_size, kernal_size)))\n",
    "model.add(Activation('relu'))\n",
    "model.add(MaxPooling2D(pool_size=(pool_size, pool_size)))\n",
    "\n",
    "model.add(Flatten())  # this converts our 3D feature maps to 1D feature vectors\n",
    "model.add(Dense(dense_1))\n",
    "model.add(Activation('relu'))\n",
    "model.add(Dropout(drop_out))\n",
    "model.add(Dense(dense_2))\n",
    "model.add(Activation('sigmoid'))\n",
    "\n",
    "model.compile(loss='binary_crossentropy',\n",
    "              optimizer='rmsprop',\n",
    "              metrics=['accuracy'])"
   ]
  },
  {
   "cell_type": "code",
   "execution_count": 17,
   "metadata": {},
   "outputs": [],
   "source": [
    "train_datagen = ImageDataGenerator(\n",
    "        shear_range=0.2,\n",
    "        zoom_range=0.2,\n",
    "        horizontal_flip=True)"
   ]
  },
  {
   "cell_type": "code",
   "execution_count": 18,
   "metadata": {},
   "outputs": [],
   "source": [
    "train_generator = train_datagen.flow(\n",
    "        X_train_d_scale, y_train_d_scale,  # this is the target directory\n",
    "        batch_size=batch_size)"
   ]
  },
  {
   "cell_type": "code",
   "execution_count": 19,
   "metadata": {},
   "outputs": [
    {
     "name": "stdout",
     "output_type": "stream",
     "text": [
      "Epoch 1/100\n",
      "125/125 [==============================] - 9s 72ms/step - loss: 0.6897 - acc: 0.5672 - val_loss: 0.6248 - val_acc: 0.6262\n",
      "Epoch 2/100\n",
      "125/125 [==============================] - 5s 36ms/step - loss: 0.6055 - acc: 0.6699 - val_loss: 0.5760 - val_acc: 0.6324\n",
      "Epoch 3/100\n",
      "125/125 [==============================] - 5s 38ms/step - loss: 0.5338 - acc: 0.7370 - val_loss: 0.4833 - val_acc: 0.7882\n",
      "Epoch 4/100\n",
      "125/125 [==============================] - 5s 37ms/step - loss: 0.4438 - acc: 0.7980 - val_loss: 0.4380 - val_acc: 0.8224\n",
      "Epoch 5/100\n",
      "125/125 [==============================] - 5s 38ms/step - loss: 0.4481 - acc: 0.7947 - val_loss: 0.4546 - val_acc: 0.8037\n",
      "Epoch 6/100\n",
      "125/125 [==============================] - 5s 37ms/step - loss: 0.4253 - acc: 0.8048 - val_loss: 0.3845 - val_acc: 0.8349\n",
      "Epoch 7/100\n",
      "125/125 [==============================] - 5s 37ms/step - loss: 0.4177 - acc: 0.8202 - val_loss: 0.3942 - val_acc: 0.8287\n",
      "Epoch 8/100\n",
      "125/125 [==============================] - 5s 38ms/step - loss: 0.3721 - acc: 0.8273 - val_loss: 0.6688 - val_acc: 0.7695\n",
      "Epoch 9/100\n",
      "125/125 [==============================] - 5s 37ms/step - loss: 0.3816 - acc: 0.8308 - val_loss: 0.3832 - val_acc: 0.8349\n",
      "Epoch 10/100\n",
      "125/125 [==============================] - 5s 38ms/step - loss: 0.3517 - acc: 0.8495 - val_loss: 0.5915 - val_acc: 0.7664\n",
      "Epoch 11/100\n",
      "125/125 [==============================] - 5s 38ms/step - loss: 0.3699 - acc: 0.8327 - val_loss: 0.3469 - val_acc: 0.8536\n",
      "Epoch 12/100\n",
      "125/125 [==============================] - 5s 37ms/step - loss: 0.3407 - acc: 0.8535 - val_loss: 0.3385 - val_acc: 0.8629\n",
      "Epoch 13/100\n",
      "125/125 [==============================] - 5s 38ms/step - loss: 0.3457 - acc: 0.8595 - val_loss: 0.3157 - val_acc: 0.8816\n",
      "Epoch 14/100\n",
      "125/125 [==============================] - 5s 37ms/step - loss: 0.3238 - acc: 0.8580 - val_loss: 0.3170 - val_acc: 0.8536\n",
      "Epoch 15/100\n",
      "125/125 [==============================] - 5s 38ms/step - loss: 0.3325 - acc: 0.8548 - val_loss: 0.4485 - val_acc: 0.8505\n",
      "Epoch 16/100\n",
      "125/125 [==============================] - 5s 38ms/step - loss: 0.3358 - acc: 0.8578 - val_loss: 0.3547 - val_acc: 0.8411\n",
      "Epoch 17/100\n",
      "125/125 [==============================] - 5s 38ms/step - loss: 0.3030 - acc: 0.8630 - val_loss: 0.3373 - val_acc: 0.8442\n",
      "Epoch 18/100\n",
      "125/125 [==============================] - 5s 37ms/step - loss: 0.3286 - acc: 0.8550 - val_loss: 0.5813 - val_acc: 0.8380\n",
      "Epoch 19/100\n",
      "125/125 [==============================] - 5s 39ms/step - loss: 0.3072 - acc: 0.8590 - val_loss: 0.2800 - val_acc: 0.8941\n",
      "Epoch 20/100\n",
      "125/125 [==============================] - 5s 37ms/step - loss: 0.3205 - acc: 0.8648 - val_loss: 0.3741 - val_acc: 0.8442\n",
      "Epoch 21/100\n",
      "125/125 [==============================] - 5s 38ms/step - loss: 0.2952 - acc: 0.8678 - val_loss: 0.3103 - val_acc: 0.8567\n",
      "Epoch 22/100\n",
      "125/125 [==============================] - 5s 38ms/step - loss: 0.2920 - acc: 0.8645 - val_loss: 0.5284 - val_acc: 0.7882\n",
      "Epoch 23/100\n",
      "125/125 [==============================] - 5s 38ms/step - loss: 0.3021 - acc: 0.8705 - val_loss: 0.3271 - val_acc: 0.8629\n",
      "Epoch 24/100\n",
      "125/125 [==============================] - 5s 38ms/step - loss: 0.2808 - acc: 0.8710 - val_loss: 0.4028 - val_acc: 0.8318\n",
      "Epoch 25/100\n",
      "125/125 [==============================] - 5s 37ms/step - loss: 0.2895 - acc: 0.8748 - val_loss: 0.2857 - val_acc: 0.8660\n",
      "Epoch 26/100\n",
      "125/125 [==============================] - 5s 38ms/step - loss: 0.2682 - acc: 0.8773 - val_loss: 0.2907 - val_acc: 0.8785\n",
      "Epoch 27/100\n",
      "125/125 [==============================] - 5s 38ms/step - loss: 0.2641 - acc: 0.8855 - val_loss: 0.3195 - val_acc: 0.8692\n",
      "Epoch 28/100\n",
      "125/125 [==============================] - 5s 38ms/step - loss: 0.2745 - acc: 0.8728 - val_loss: 0.3155 - val_acc: 0.8598\n",
      "Epoch 29/100\n",
      "125/125 [==============================] - 5s 37ms/step - loss: 0.2894 - acc: 0.8733 - val_loss: 0.2907 - val_acc: 0.8910\n",
      "Epoch 30/100\n",
      "125/125 [==============================] - 5s 37ms/step - loss: 0.2626 - acc: 0.8813 - val_loss: 0.3870 - val_acc: 0.8287\n",
      "Epoch 31/100\n",
      "125/125 [==============================] - 5s 38ms/step - loss: 0.2497 - acc: 0.8900 - val_loss: 0.2883 - val_acc: 0.8660\n",
      "Epoch 32/100\n",
      "125/125 [==============================] - 5s 37ms/step - loss: 0.2756 - acc: 0.8880 - val_loss: 0.2831 - val_acc: 0.8941\n",
      "Epoch 33/100\n",
      "125/125 [==============================] - 5s 38ms/step - loss: 0.2249 - acc: 0.9055 - val_loss: 0.2923 - val_acc: 0.8629\n",
      "Epoch 34/100\n",
      "125/125 [==============================] - 5s 37ms/step - loss: 0.2401 - acc: 0.8985 - val_loss: 0.3054 - val_acc: 0.8972\n",
      "Epoch 35/100\n",
      "125/125 [==============================] - 5s 37ms/step - loss: 0.2576 - acc: 0.8888 - val_loss: 0.2774 - val_acc: 0.8847\n",
      "Epoch 36/100\n",
      "125/125 [==============================] - 5s 38ms/step - loss: 0.2644 - acc: 0.8958 - val_loss: 0.3449 - val_acc: 0.8754\n",
      "Epoch 37/100\n",
      "125/125 [==============================] - 5s 38ms/step - loss: 0.2494 - acc: 0.8910 - val_loss: 0.2679 - val_acc: 0.8847\n",
      "Epoch 38/100\n",
      "125/125 [==============================] - 5s 38ms/step - loss: 0.2433 - acc: 0.9000 - val_loss: 0.3204 - val_acc: 0.8847\n",
      "Epoch 39/100\n",
      "125/125 [==============================] - 5s 37ms/step - loss: 0.2446 - acc: 0.8963 - val_loss: 0.2790 - val_acc: 0.8910\n",
      "Epoch 40/100\n",
      "125/125 [==============================] - 5s 37ms/step - loss: 0.2262 - acc: 0.9185 - val_loss: 0.2884 - val_acc: 0.8723\n",
      "Epoch 41/100\n",
      "125/125 [==============================] - 5s 38ms/step - loss: 0.2390 - acc: 0.8945 - val_loss: 0.3195 - val_acc: 0.8847\n",
      "Epoch 42/100\n",
      "125/125 [==============================] - 5s 38ms/step - loss: 0.2404 - acc: 0.9043 - val_loss: 0.3383 - val_acc: 0.8785\n",
      "Epoch 43/100\n",
      "125/125 [==============================] - 5s 37ms/step - loss: 0.2243 - acc: 0.8988 - val_loss: 0.3407 - val_acc: 0.8879\n",
      "Epoch 44/100\n",
      "125/125 [==============================] - 5s 38ms/step - loss: 0.2756 - acc: 0.8880 - val_loss: 0.4578 - val_acc: 0.8785\n",
      "Epoch 45/100\n",
      "125/125 [==============================] - 5s 41ms/step - loss: 0.2443 - acc: 0.9063 - val_loss: 0.3741 - val_acc: 0.8816\n",
      "Epoch 46/100\n",
      "125/125 [==============================] - 5s 40ms/step - loss: 0.2368 - acc: 0.9057 - val_loss: 0.4385 - val_acc: 0.8567\n",
      "Epoch 47/100\n",
      "125/125 [==============================] - 5s 40ms/step - loss: 0.2092 - acc: 0.9102 - val_loss: 0.2906 - val_acc: 0.8941\n",
      "Epoch 48/100\n",
      "125/125 [==============================] - 5s 39ms/step - loss: 0.2635 - acc: 0.9090 - val_loss: 0.2934 - val_acc: 0.8847\n",
      "Epoch 49/100\n",
      "125/125 [==============================] - 5s 40ms/step - loss: 0.2380 - acc: 0.8982 - val_loss: 0.3248 - val_acc: 0.8629\n",
      "Epoch 50/100\n",
      "125/125 [==============================] - 5s 38ms/step - loss: 0.2167 - acc: 0.9143 - val_loss: 0.6198 - val_acc: 0.8349\n",
      "Epoch 51/100\n",
      "125/125 [==============================] - 5s 39ms/step - loss: 0.2519 - acc: 0.8995 - val_loss: 0.2807 - val_acc: 0.8723\n",
      "Epoch 52/100\n",
      "125/125 [==============================] - 5s 37ms/step - loss: 0.1985 - acc: 0.9195 - val_loss: 0.3004 - val_acc: 0.8816\n",
      "Epoch 53/100\n",
      "125/125 [==============================] - 5s 39ms/step - loss: 0.2267 - acc: 0.9018 - val_loss: 0.3988 - val_acc: 0.8598\n",
      "Epoch 54/100\n",
      "125/125 [==============================] - 5s 39ms/step - loss: 0.2285 - acc: 0.9093 - val_loss: 0.2676 - val_acc: 0.9097\n",
      "Epoch 55/100\n",
      "125/125 [==============================] - 5s 38ms/step - loss: 0.2253 - acc: 0.9160 - val_loss: 0.2789 - val_acc: 0.8879\n",
      "Epoch 56/100\n",
      "125/125 [==============================] - 5s 38ms/step - loss: 0.2186 - acc: 0.9163 - val_loss: 0.2560 - val_acc: 0.9097\n",
      "Epoch 57/100\n",
      "125/125 [==============================] - 5s 38ms/step - loss: 0.2076 - acc: 0.9160 - val_loss: 0.2451 - val_acc: 0.9065\n",
      "Epoch 58/100\n",
      "125/125 [==============================] - 5s 38ms/step - loss: 0.2255 - acc: 0.9070 - val_loss: 0.2944 - val_acc: 0.8941\n",
      "Epoch 59/100\n",
      "125/125 [==============================] - 5s 38ms/step - loss: 0.1970 - acc: 0.9260 - val_loss: 0.2986 - val_acc: 0.8692\n",
      "Epoch 60/100\n",
      "125/125 [==============================] - 5s 38ms/step - loss: 0.2207 - acc: 0.9120 - val_loss: 0.2860 - val_acc: 0.8910\n",
      "Epoch 61/100\n",
      "125/125 [==============================] - 5s 39ms/step - loss: 0.2062 - acc: 0.9275 - val_loss: 0.2807 - val_acc: 0.9003\n"
     ]
    },
    {
     "name": "stdout",
     "output_type": "stream",
     "text": [
      "Epoch 62/100\n",
      "125/125 [==============================] - 5s 37ms/step - loss: 0.2047 - acc: 0.9140 - val_loss: 0.2580 - val_acc: 0.9034\n",
      "Epoch 63/100\n",
      "125/125 [==============================] - 5s 38ms/step - loss: 0.2012 - acc: 0.9170 - val_loss: 0.4353 - val_acc: 0.8380\n",
      "Epoch 64/100\n",
      "125/125 [==============================] - 5s 38ms/step - loss: 0.2218 - acc: 0.9142 - val_loss: 0.3003 - val_acc: 0.8816\n",
      "Epoch 65/100\n",
      "125/125 [==============================] - 5s 37ms/step - loss: 0.1960 - acc: 0.9220 - val_loss: 0.2793 - val_acc: 0.8816\n",
      "Epoch 66/100\n",
      "125/125 [==============================] - 5s 37ms/step - loss: 0.2154 - acc: 0.9203 - val_loss: 0.2827 - val_acc: 0.8723\n",
      "Epoch 67/100\n",
      "125/125 [==============================] - 5s 38ms/step - loss: 0.2091 - acc: 0.9185 - val_loss: 0.3192 - val_acc: 0.8879\n",
      "Epoch 68/100\n",
      "125/125 [==============================] - 5s 37ms/step - loss: 0.1756 - acc: 0.9295 - val_loss: 0.3237 - val_acc: 0.8692\n",
      "Epoch 69/100\n",
      "125/125 [==============================] - 5s 39ms/step - loss: 0.1957 - acc: 0.9240 - val_loss: 0.2765 - val_acc: 0.8816\n",
      "Epoch 70/100\n",
      "125/125 [==============================] - 5s 40ms/step - loss: 0.1956 - acc: 0.9290 - val_loss: 0.3213 - val_acc: 0.8785\n",
      "Epoch 71/100\n",
      "125/125 [==============================] - 5s 40ms/step - loss: 0.1997 - acc: 0.9142 - val_loss: 0.4380 - val_acc: 0.8754\n",
      "Epoch 72/100\n",
      "125/125 [==============================] - 5s 40ms/step - loss: 0.2082 - acc: 0.9245 - val_loss: 0.5364 - val_acc: 0.8723\n",
      "Epoch 73/100\n",
      "125/125 [==============================] - 5s 38ms/step - loss: 0.2135 - acc: 0.9213 - val_loss: 0.4397 - val_acc: 0.8754\n",
      "Epoch 74/100\n",
      "125/125 [==============================] - 5s 39ms/step - loss: 0.1794 - acc: 0.9265 - val_loss: 0.3104 - val_acc: 0.8816\n",
      "Epoch 75/100\n",
      "125/125 [==============================] - 5s 36ms/step - loss: 0.2040 - acc: 0.9243 - val_loss: 0.4735 - val_acc: 0.8754\n",
      "Epoch 76/100\n",
      "125/125 [==============================] - 5s 38ms/step - loss: 0.1940 - acc: 0.9260 - val_loss: 0.2629 - val_acc: 0.8723\n",
      "Epoch 77/100\n",
      "125/125 [==============================] - 5s 37ms/step - loss: 0.1829 - acc: 0.9360 - val_loss: 0.3205 - val_acc: 0.8879\n",
      "Epoch 78/100\n",
      "125/125 [==============================] - 4s 35ms/step - loss: 0.1912 - acc: 0.9240 - val_loss: 0.5643 - val_acc: 0.8598\n",
      "Epoch 79/100\n",
      "125/125 [==============================] - 5s 36ms/step - loss: 0.1880 - acc: 0.9268 - val_loss: 0.2892 - val_acc: 0.9003\n",
      "Epoch 80/100\n",
      "125/125 [==============================] - 4s 35ms/step - loss: 0.1868 - acc: 0.9320 - val_loss: 0.2853 - val_acc: 0.8847\n",
      "Epoch 81/100\n",
      "125/125 [==============================] - 5s 39ms/step - loss: 0.1809 - acc: 0.9215 - val_loss: 0.3598 - val_acc: 0.8816\n",
      "Epoch 82/100\n",
      "125/125 [==============================] - 5s 36ms/step - loss: 0.1795 - acc: 0.9380 - val_loss: 0.3078 - val_acc: 0.8847\n",
      "Epoch 83/100\n",
      "125/125 [==============================] - 5s 37ms/step - loss: 0.1989 - acc: 0.9248 - val_loss: 0.3027 - val_acc: 0.9003\n",
      "Epoch 84/100\n",
      "125/125 [==============================] - 4s 36ms/step - loss: 0.1813 - acc: 0.9360 - val_loss: 0.2871 - val_acc: 0.8972\n",
      "Epoch 85/100\n",
      "125/125 [==============================] - 4s 36ms/step - loss: 0.1723 - acc: 0.9303 - val_loss: 0.3255 - val_acc: 0.8847\n",
      "Epoch 86/100\n",
      "125/125 [==============================] - 4s 36ms/step - loss: 0.1990 - acc: 0.9298 - val_loss: 0.3080 - val_acc: 0.8660\n",
      "Epoch 87/100\n",
      "125/125 [==============================] - 5s 36ms/step - loss: 0.2199 - acc: 0.9148 - val_loss: 0.3115 - val_acc: 0.9159\n",
      "Epoch 88/100\n",
      "125/125 [==============================] - 4s 35ms/step - loss: 0.1929 - acc: 0.9270 - val_loss: 0.2947 - val_acc: 0.9003\n",
      "Epoch 89/100\n",
      "125/125 [==============================] - 4s 35ms/step - loss: 0.1918 - acc: 0.9295 - val_loss: 0.4706 - val_acc: 0.8660\n",
      "Epoch 90/100\n",
      "125/125 [==============================] - 4s 35ms/step - loss: 0.1790 - acc: 0.9315 - val_loss: 0.3434 - val_acc: 0.9034\n",
      "Epoch 91/100\n",
      "125/125 [==============================] - 4s 36ms/step - loss: 0.1779 - acc: 0.9345 - val_loss: 0.4267 - val_acc: 0.8629\n",
      "Epoch 92/100\n",
      "125/125 [==============================] - 5s 37ms/step - loss: 0.1950 - acc: 0.9228 - val_loss: 0.3203 - val_acc: 0.8941\n",
      "Epoch 93/100\n",
      "125/125 [==============================] - 5s 36ms/step - loss: 0.1612 - acc: 0.9380 - val_loss: 0.3315 - val_acc: 0.8879\n",
      "Epoch 94/100\n",
      "125/125 [==============================] - 5s 37ms/step - loss: 0.1670 - acc: 0.9425 - val_loss: 0.2831 - val_acc: 0.8879\n",
      "Epoch 95/100\n",
      "125/125 [==============================] - 4s 35ms/step - loss: 0.1964 - acc: 0.9348 - val_loss: 0.3026 - val_acc: 0.8847\n",
      "Epoch 96/100\n",
      "125/125 [==============================] - 5s 37ms/step - loss: 0.1719 - acc: 0.9320 - val_loss: 0.4910 - val_acc: 0.8660\n",
      "Epoch 97/100\n",
      "125/125 [==============================] - 5s 36ms/step - loss: 0.1963 - acc: 0.9340 - val_loss: 0.3320 - val_acc: 0.9003\n",
      "Epoch 98/100\n",
      "125/125 [==============================] - 4s 36ms/step - loss: 0.1630 - acc: 0.9373 - val_loss: 0.3125 - val_acc: 0.8847\n",
      "Epoch 99/100\n",
      "125/125 [==============================] - 5s 36ms/step - loss: 0.1810 - acc: 0.9310 - val_loss: 0.4197 - val_acc: 0.8847\n",
      "Epoch 100/100\n",
      "125/125 [==============================] - 4s 35ms/step - loss: 0.1759 - acc: 0.9385 - val_loss: 0.3163 - val_acc: 0.8785\n"
     ]
    }
   ],
   "source": [
    "history = model.fit_generator(\n",
    "        train_generator,\n",
    "        steps_per_epoch=2000 // batch_size,\n",
    "        epochs=num_epochs,\n",
    "        validation_data=(X_test_d_scale,y_test_d_scale),\n",
    "        validation_steps=800 // batch_size)\n",
    "model.save_weights('first_try.h5')"
   ]
  },
  {
   "cell_type": "markdown",
   "metadata": {},
   "source": [
    "### Predict using model"
   ]
  },
  {
   "cell_type": "code",
   "execution_count": null,
   "metadata": {},
   "outputs": [],
   "source": [
    "dd=model.predict(X_test_scale,batch_size=batch_size,verbose=1)"
   ]
  },
  {
   "cell_type": "code",
   "execution_count": null,
   "metadata": {},
   "outputs": [],
   "source": [
    "dd"
   ]
  },
  {
   "cell_type": "markdown",
   "metadata": {},
   "source": [
    "### Output results"
   ]
  },
  {
   "cell_type": "code",
   "execution_count": 21,
   "metadata": {},
   "outputs": [],
   "source": [
    "results = pd.DataFrame()\n",
    "\n",
    "for i in range(len(test_id)):\n",
    "    results = results.append({'id': test_id[i][0], 'is_iceberg' :dd[i][0]}, ignore_index=True)\n",
    "\n",
    "results.to_csv(\"results.csv\",index=False)"
   ]
  },
  {
   "cell_type": "markdown",
   "metadata": {},
   "source": [
    "### Plot history of accuracy and loss"
   ]
  },
  {
   "cell_type": "code",
   "execution_count": 20,
   "metadata": {
    "scrolled": true
   },
   "outputs": [
    {
     "data": {
      "image/png": "[encoded data removed]",
      "text/plain": [
       "<matplotlib.figure.Figure at 0x2044f9a6208>"
      ]
     },
     "metadata": {},
     "output_type": "display_data"
    },
    {
     "data": {
      "image/png": "[encoded data removed]",
      "text/plain": [
       "<matplotlib.figure.Figure at 0x20450321fd0>"
      ]
     },
     "metadata": {},
     "output_type": "display_data"
    }
   ],
   "source": [
    "# summarize history for accuracy\n",
    "plt.plot(history.history['acc'])\n",
    "plt.plot(history.history['val_acc'])\n",
    "plt.title('model accuracy')\n",
    "plt.ylabel('accuracy')\n",
    "plt.xlabel('epoch')\n",
    "plt.legend(['train', 'test'], loc='upper left')\n",
    "plt.show()\n",
    "# summarize history for loss\n",
    "plt.plot(history.history['loss'])\n",
    "plt.plot(history.history['val_loss'])\n",
    "plt.title('model loss')\n",
    "plt.ylabel('loss')\n",
    "plt.xlabel('epoch')\n",
    "plt.legend(['train', 'test'], loc='upper left')\n",
    "plt.show()"
   ]
  },
  {
   "cell_type": "markdown",
   "metadata": {},
   "source": [
    "### Plot model"
   ]
  },
  {
   "cell_type": "code",
   "execution_count": 21,
   "metadata": {},
   "outputs": [
    {
     "name": "stdout",
     "output_type": "stream",
     "text": [
      "_________________________________________________________________\n",
      "Layer (type)                 Output Shape              Param #   \n",
      "=================================================================\n",
      "conv2d_4 (Conv2D)            (None, 73, 73, 32)        896       \n",
      "_________________________________________________________________\n",
      "activation_6 (Activation)    (None, 73, 73, 32)        0         \n",
      "_________________________________________________________________\n",
      "max_pooling2d_4 (MaxPooling2 (None, 36, 36, 32)        0         \n",
      "_________________________________________________________________\n",
      "conv2d_5 (Conv2D)            (None, 34, 34, 32)        9248      \n",
      "_________________________________________________________________\n",
      "activation_7 (Activation)    (None, 34, 34, 32)        0         \n",
      "_________________________________________________________________\n",
      "max_pooling2d_5 (MaxPooling2 (None, 17, 17, 32)        0         \n",
      "_________________________________________________________________\n",
      "conv2d_6 (Conv2D)            (None, 15, 15, 64)        18496     \n",
      "_________________________________________________________________\n",
      "activation_8 (Activation)    (None, 15, 15, 64)        0         \n",
      "_________________________________________________________________\n",
      "max_pooling2d_6 (MaxPooling2 (None, 7, 7, 64)          0         \n",
      "_________________________________________________________________\n",
      "flatten_2 (Flatten)          (None, 3136)              0         \n",
      "_________________________________________________________________\n",
      "dense_3 (Dense)              (None, 64)                200768    \n",
      "_________________________________________________________________\n",
      "activation_9 (Activation)    (None, 64)                0         \n",
      "_________________________________________________________________\n",
      "dropout_2 (Dropout)          (None, 64)                0         \n",
      "_________________________________________________________________\n",
      "dense_4 (Dense)              (None, 1)                 65        \n",
      "_________________________________________________________________\n",
      "activation_10 (Activation)   (None, 1)                 0         \n",
      "=================================================================\n",
      "Total params: 229,473\n",
      "Trainable params: 229,473\n",
      "Non-trainable params: 0\n",
      "_________________________________________________________________\n"
     ]
    }
   ],
   "source": [
    "model.summary()"
   ]
  },
  {
   "cell_type": "code",
   "execution_count": null,
   "metadata": {},
   "outputs": [],
   "source": []
  }
 ],
 "metadata": {
  "kernelspec": {
   "display_name": "Python 3",
   "language": "python",
   "name": "python3"
  },
  "language_info": {
   "codemirror_mode": {
    "name": "ipython",
    "version": 3
   },
   "file_extension": ".py",
   "mimetype": "text/x-python",
   "name": "python",
   "nbconvert_exporter": "python",
   "pygments_lexer": "ipython3",
   "version": "3.6.3"
  }
 },
 "nbformat": 4,
 "nbformat_minor": 2
}
